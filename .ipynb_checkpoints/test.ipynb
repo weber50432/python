{
 "cells": [
  {
   "cell_type": "code",
   "execution_count": 1,
   "metadata": {},
   "outputs": [
    {
     "ename": "ValueError",
     "evalue": "invalid literal for int() with base 10: '--ip=127.0.0.1'",
     "output_type": "error",
     "traceback": [
      "\u001b[0;31m---------------------------------------------------------------------------\u001b[0m",
      "\u001b[0;31mValueError\u001b[0m                                Traceback (most recent call last)",
      "\u001b[1;32m/Users/weber/Documents/python/.ipynb_checkpoints/test.ipynb Cell 1'\u001b[0m in \u001b[0;36m<cell line: 10>\u001b[0;34m()\u001b[0m\n\u001b[1;32m      <a href='vscode-notebook-cell:/Users/weber/Documents/python/.ipynb_checkpoints/test.ipynb#ch0000000?line=6'>7</a>\u001b[0m         new_line_str \u001b[39m+\u001b[39m\u001b[39m=\u001b[39m \u001b[39m'\u001b[39m\u001b[39m*\u001b[39m\u001b[39m'\u001b[39m \u001b[39m*\u001b[39m ((i\u001b[39m+\u001b[39m\u001b[39m1\u001b[39m) \u001b[39m*\u001b[39m \u001b[39m2\u001b[39m \u001b[39m-\u001b[39m \u001b[39m1\u001b[39m)\n\u001b[1;32m      <a href='vscode-notebook-cell:/Users/weber/Documents/python/.ipynb_checkpoints/test.ipynb#ch0000000?line=7'>8</a>\u001b[0m         \u001b[39mprint\u001b[39m(new_line_str)\n\u001b[0;32m---> <a href='vscode-notebook-cell:/Users/weber/Documents/python/.ipynb_checkpoints/test.ipynb#ch0000000?line=9'>10</a>\u001b[0m input_level \u001b[39m=\u001b[39m \u001b[39mint\u001b[39;49m(sys\u001b[39m.\u001b[39;49margv[\u001b[39m1\u001b[39;49m])\n\u001b[1;32m     <a href='vscode-notebook-cell:/Users/weber/Documents/python/.ipynb_checkpoints/test.ipynb#ch0000000?line=10'>11</a>\u001b[0m print_pyramid(input_level)\n",
      "\u001b[0;31mValueError\u001b[0m: invalid literal for int() with base 10: '--ip=127.0.0.1'"
     ]
    }
   ],
   "source": [
    "import sys\n",
    "\n",
    "def print_pyramid(level: int):\n",
    "    for i in range(level):\n",
    "        new_line_str = ''\n",
    "        new_line_str += ' ' * (level - 1 - i)\n",
    "        new_line_str += '*' * ((i+1) * 2 - 1)\n",
    "        print(new_line_str)\n",
    "\n",
    "input_level = int(sys.argv[1])\n",
    "print_pyramid(input_level)"
   ]
  }
 ],
 "metadata": {
  "kernelspec": {
   "display_name": "Python 3.10.5 64-bit",
   "language": "python",
   "name": "python3"
  },
  "language_info": {
   "codemirror_mode": {
    "name": "ipython",
    "version": 3
   },
   "file_extension": ".py",
   "mimetype": "text/x-python",
   "name": "python",
   "nbconvert_exporter": "python",
   "pygments_lexer": "ipython3",
   "version": "3.10.5"
  },
  "orig_nbformat": 4,
  "vscode": {
   "interpreter": {
    "hash": "aee8b7b246df8f9039afb4144a1f6fd8d2ca17a180786b69acc140d282b71a49"
   }
  }
 },
 "nbformat": 4,
 "nbformat_minor": 2
}
