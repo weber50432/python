{
 "cells": [
  {
   "cell_type": "markdown",
   "metadata": {},
   "source": [
    "匯入threading"
   ]
  },
  {
   "cell_type": "code",
   "execution_count": 1,
   "metadata": {},
   "outputs": [],
   "source": [
    "import threading"
   ]
  },
  {
   "cell_type": "markdown",
   "metadata": {},
   "source": [
    "獲取正在使用的線程數"
   ]
  },
  {
   "cell_type": "code",
   "execution_count": 2,
   "metadata": {},
   "outputs": [
    {
     "name": "stdout",
     "output_type": "stream",
     "text": [
      "7\n"
     ]
    }
   ],
   "source": [
    "def main():\n",
    "  print (threading.active_count())\n",
    "if __name__ == '__main__':\n",
    "  main()\n"
   ]
  },
  {
   "cell_type": "markdown",
   "metadata": {},
   "source": [
    "查看所有線程資訊"
   ]
  },
  {
   "cell_type": "code",
   "execution_count": 3,
   "metadata": {},
   "outputs": [
    {
     "name": "stdout",
     "output_type": "stream",
     "text": [
      "[<_MainThread(MainThread, started 4571100672)>, <Thread(IOPub, started daemon 123145398558720)>, <Heartbeat(Heartbeat, started daemon 123145415348224)>, <Thread(Thread-2 (_watch_pipe_fd), started daemon 123145433210880)>, <Thread(Thread-3 (_watch_pipe_fd), started daemon 123145450000384)>, <ControlThread(Control, started daemon 123145466789888)>, <HistorySavingThread(IPythonHistorySavingThread, started 123145483579392)>]\n"
     ]
    }
   ],
   "source": [
    "def main():\n",
    "  print(threading.enumerate())\n",
    "\n",
    "if __name__ == '__main__':\n",
    "  main()\n"
   ]
  },
  {
   "cell_type": "markdown",
   "metadata": {},
   "source": [
    "目前正在運行的線程"
   ]
  },
  {
   "cell_type": "code",
   "execution_count": 4,
   "metadata": {},
   "outputs": [
    {
     "name": "stdout",
     "output_type": "stream",
     "text": [
      "<_MainThread(MainThread, started 4571100672)>\n"
     ]
    }
   ],
   "source": [
    "def main():\n",
    "  print(threading.current_thread())\n",
    "\n",
    "if __name__ == '__main__':\n",
    "  main()\n"
   ]
  },
  {
   "cell_type": "markdown",
   "metadata": {},
   "source": [
    "添加線程"
   ]
  },
  {
   "cell_type": "code",
   "execution_count": 5,
   "metadata": {},
   "outputs": [
    {
     "name": "stdout",
     "output_type": "stream",
     "text": [
      "This is a thread of <Thread(Thread-4 (thread_job), started 123145500905472)>\n"
     ]
    }
   ],
   "source": [
    "def thread_job():\n",
    "    print('This is a thread of %s' % threading.current_thread())\n",
    "\n",
    "def main():\n",
    "    thread = threading.Thread(target=thread_job,)   # 定義線程，target代表這個線程所要完成的工作\n",
    "    thread.start()  # 讓線程開始\n",
    "\n",
    "if __name__ == '__main__':\n",
    "    main()\n"
   ]
  },
  {
   "cell_type": "markdown",
   "metadata": {},
   "source": [
    "join使用"
   ]
  },
  {
   "cell_type": "code",
   "execution_count": 9,
   "metadata": {},
   "outputs": [
    {
     "name": "stdout",
     "output_type": "stream",
     "text": [
      "T1 start\n",
      "\n",
      "T1 finish\n",
      "\n",
      "all done\n",
      "\n"
     ]
    }
   ],
   "source": [
    "import threading\n",
    "import time\n",
    "def thread_job():\n",
    "  print(\"T1 start\\n\")\n",
    "  for i in range(10):\n",
    "    time.sleep(0.1)   # 每次間隔0.1s\n",
    "  print(\"T1 finish\\n\")\n",
    "\n",
    "def main():\n",
    "  added_thread = threading.Thread(target=thread_job, name='T1')\n",
    "  added_thread.start()\n",
    "  added_thread.join() #等待join以上的thread先跑完才繼續往下執行\n",
    "  print(\"all done\\n\")\n",
    "\n",
    "\n",
    "if __name__ == '__main__':\n",
    "    main()\n"
   ]
  },
  {
   "cell_type": "markdown",
   "metadata": {},
   "source": [
    "Lock使用：確保不同線程使用同一資料時，不會互相影響。\n",
    "在執行前加上lock.acquire()上鎖\n",
    "執行完畢後用lock.release()解鎖"
   ]
  },
  {
   "cell_type": "markdown",
   "metadata": {},
   "source": [
    "為使用lock情況，會發現兩個job的輸出很亂"
   ]
  },
  {
   "cell_type": "code",
   "execution_count": 12,
   "metadata": {},
   "outputs": [
    {
     "name": "stdout",
     "output_type": "stream",
     "text": [
      "job1 1\n",
      "job1 2\n",
      "job1 3\n",
      "job1 4\n",
      "job1 5\n",
      "job1 6\n",
      "job1 7\n",
      "job1 8\n",
      "job1 9\n",
      "job1 10\n",
      "job2 20\n",
      "job2 30\n",
      "job2 40\n",
      "job2 50\n",
      "job2 60\n",
      "job2 70\n",
      "job2 80\n",
      "job2 90\n",
      "job2 100\n",
      "job2 110\n"
     ]
    }
   ],
   "source": [
    "import threading\n",
    "\n",
    "def job1():\n",
    "    global A\n",
    "    for i in range(10):\n",
    "        A+=1\n",
    "        print('job1',A)\n",
    "\n",
    "def job2():\n",
    "    global A\n",
    "    for i in range(10):\n",
    "        A+=10\n",
    "        print('job2',A)\n",
    "\n",
    "if __name__== '__main__':\n",
    "    lock=threading.Lock()\n",
    "    A=0\n",
    "    t1=threading.Thread(target=job1)\n",
    "    t2=threading.Thread(target=job2)\n",
    "    t1.start()\n",
    "    t2.start()\n",
    "    t1.join()\n",
    "    t2.join()"
   ]
  },
  {
   "cell_type": "code",
   "execution_count": null,
   "metadata": {},
   "outputs": [],
   "source": [
    "加上Lock"
   ]
  },
  {
   "cell_type": "code",
   "execution_count": 13,
   "metadata": {},
   "outputs": [
    {
     "name": "stdout",
     "output_type": "stream",
     "text": [
      "job1 1\n",
      "job1 2\n",
      "job1 3\n",
      "job1 4\n",
      "job1 5\n",
      "job1 6\n",
      "job1 7\n",
      "job1 8\n",
      "job1 9\n",
      "job1 10\n",
      "job2 20\n",
      "job2 30\n",
      "job2 40\n",
      "job2 50\n",
      "job2 60\n",
      "job2 70\n",
      "job2 80\n",
      "job2 90\n",
      "job2 100\n",
      "job2 110\n"
     ]
    }
   ],
   "source": [
    "import threading\n",
    "\n",
    "def job1():\n",
    "    global A,lock\n",
    "    lock.acquire()\n",
    "    for i in range(10):\n",
    "        A+=1\n",
    "        print('job1',A)\n",
    "    lock.release()\n",
    "\n",
    "def job2():\n",
    "    global A,lock\n",
    "    lock.acquire()\n",
    "    for i in range(10):\n",
    "        A+=10\n",
    "        print('job2',A)\n",
    "    lock.release()\n",
    "\n",
    "if __name__== '__main__':\n",
    "    lock=threading.Lock() #lock為threading中的一個物件\n",
    "    A=0\n",
    "    t1=threading.Thread(target=job1)\n",
    "    t2=threading.Thread(target=job2)\n",
    "    t1.start()\n",
    "    t2.start()\n",
    "    t1.join()\n",
    "    t2.join()"
   ]
  },
  {
   "cell_type": "markdown",
   "metadata": {},
   "source": [
    "Queue:儲存線程中的資料\n",
    "因為線程內的def沒辦法return值"
   ]
  },
  {
   "cell_type": "code",
   "execution_count": 14,
   "metadata": {},
   "outputs": [
    {
     "name": "stdout",
     "output_type": "stream",
     "text": [
      "[[1, 4, 9], [9, 16, 25], [16, 16, 16], [25, 25, 25]]\n"
     ]
    }
   ],
   "source": [
    "import threading\n",
    "import time\n",
    "\n",
    "from queue import Queue #匯入queue\n",
    "\n",
    "\n",
    "def job(l, q):\n",
    "    for i in range(len(l)):\n",
    "        l[i] = l[i]**2\n",
    "    q.put(l) #取代return的功能，將回傳值儲存在queue中\n",
    "\n",
    "\n",
    "def multithreading():\n",
    "    q = Queue()\n",
    "    threads = [] #線程list\n",
    "    data = [[1, 2, 3], [3, 4, 5], [4, 4, 4], [5, 5, 5]]\n",
    "    for i in range(4):\n",
    "        t = threading.Thread(target=job, args=(data[i], q))\n",
    "        t.start()\n",
    "        threads.append(t)\n",
    "    for thread in threads:\n",
    "        thread.join()\n",
    "    results = []\n",
    "    for _ in range(4):\n",
    "        results.append(q.get())\n",
    "    print(results)\n",
    "\n",
    "\n",
    "if __name__ == '__main__':\n",
    "    multithreading()\n"
   ]
  },
  {
   "cell_type": "markdown",
   "metadata": {},
   "source": [
    "GIL(Global Interpreter Lock): GIL 可以用於確保在 Python 運行時僅運行一個 Thread 來保證多執行緒同時運行，並對同一資源進行讀寫操作的修改時，其執行緒與執行緒間不會發生衝突，和數據修改不會發生錯誤（Thread-safe）。"
   ]
  },
  {
   "cell_type": "code",
   "execution_count": 20,
   "metadata": {},
   "outputs": [
    {
     "name": "stdout",
     "output_type": "stream",
     "text": [
      "1999998000000\n",
      "normal:  0.06059002876281738\n",
      "1999998000000\n",
      "multithreading:  0.05639195442199707\n"
     ]
    }
   ],
   "source": [
    "import threading\n",
    "from queue import Queue\n",
    "import copy\n",
    "import time\n",
    "\n",
    "def job(l, q):\n",
    "    res = sum(l)\n",
    "    q.put(res)\n",
    "\n",
    "def multithreading(l):\n",
    "    q = Queue()\n",
    "    threads = []\n",
    "    for i in range(4):\n",
    "        t = threading.Thread(target=job, args=(copy.copy(l), q), name='T%i' % i)\n",
    "        t.start()\n",
    "        threads.append(t)\n",
    "    [t.join() for t in threads]\n",
    "    total = 0\n",
    "    for _ in range(4):\n",
    "        total += q.get()\n",
    "    print(total)\n",
    "\n",
    "def normal(l):\n",
    "    total = sum(l)\n",
    "    print(total)\n",
    "\n",
    "if __name__ == '__main__':\n",
    "    l = list(range(1000000))\n",
    "    s_t = time.time()\n",
    "    normal(l*4)\n",
    "    print('normal: ',time.time()-s_t)\n",
    "    s_t = time.time()\n",
    "    multithreading(l)\n",
    "    print('multithreading: ', time.time()-s_t)"
   ]
  },
  {
   "cell_type": "markdown",
   "metadata": {},
   "source": [
    "thread和Normal做了一樣多次的運算，但可以發現兩者的差距不大，不如預期的3-4倍"
   ]
  }
 ],
 "metadata": {
  "kernelspec": {
   "display_name": "Python 3.10.5 64-bit",
   "language": "python",
   "name": "python3"
  },
  "language_info": {
   "codemirror_mode": {
    "name": "ipython",
    "version": 3
   },
   "file_extension": ".py",
   "mimetype": "text/x-python",
   "name": "python",
   "nbconvert_exporter": "python",
   "pygments_lexer": "ipython3",
   "version": "3.10.5"
  },
  "orig_nbformat": 4,
  "vscode": {
   "interpreter": {
    "hash": "aee8b7b246df8f9039afb4144a1f6fd8d2ca17a180786b69acc140d282b71a49"
   }
  }
 },
 "nbformat": 4,
 "nbformat_minor": 2
}
